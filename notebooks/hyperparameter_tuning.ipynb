{
 "cells": [
  {
   "cell_type": "markdown",
   "id": "appropriate-wednesday",
   "metadata": {},
   "source": [
    "# Hyperparameter Tuning"
   ]
  },
  {
   "cell_type": "markdown",
   "id": "ordinary-strand",
   "metadata": {},
   "source": [
    "## Setup"
   ]
  },
  {
   "cell_type": "code",
   "execution_count": null,
   "id": "fifteen-spell",
   "metadata": {},
   "outputs": [],
   "source": [
    "%cd .."
   ]
  },
  {
   "cell_type": "markdown",
   "id": "mental-bubble",
   "metadata": {},
   "source": [
    "### Imports"
   ]
  },
  {
   "cell_type": "code",
   "execution_count": null,
   "id": "searching-newport",
   "metadata": {},
   "outputs": [],
   "source": [
    "import time\n",
    "\n",
    "import matplotlib.pyplot as plt\n",
    "import torch\n",
    "import torch.nn as nn\n",
    "import torch.nn.functional as F\n",
    "\n",
    "import models as models\n",
    "from train import train\n",
    "from evaluation import model_tuning"
   ]
  },
  {
   "cell_type": "markdown",
   "id": "knowing-diary",
   "metadata": {},
   "source": [
    "## Baseline"
   ]
  },
  {
   "cell_type": "code",
   "execution_count": null,
   "id": "affecting-newsletter",
   "metadata": {},
   "outputs": [],
   "source": [
    "def gen_baseline(params):\n",
    "    # No hidden layer units, ignore hidden_units parameter\n",
    "    \n",
    "    model = models.BaselineCNN()\n",
    "    criterion = torch.nn.CrossEntropyLoss()\n",
    "    optimizer = torch.optim.Adam(model.parameters(), lr=params['lr'])\n",
    "    return model, criterion, optimizer"
   ]
  },
  {
   "cell_type": "code",
   "execution_count": null,
   "id": "civic-collar",
   "metadata": {},
   "outputs": [],
   "source": [
    "epochs = 20\n",
    "seed = 0\n",
    "\n",
    "learning_rates = [0.0001, 0.001, 0.01]\n",
    "batch_sizes = 5, 10, 25\n",
    "# Doesn't matter: no MLP after LeNet \n",
    "hidden_layer_units = [10]\n",
    "\n",
    "batch_size, lr, _ = model_tuning(\n",
    "    gen_baseline, train, epochs, batch_sizes, learning_rates, hidden_layer_units, seed=seed)"
   ]
  },
  {
   "cell_type": "markdown",
   "id": "reasonable-press",
   "metadata": {},
   "source": [
    "## Baseline 2"
   ]
  },
  {
   "cell_type": "code",
   "execution_count": null,
   "id": "threaded-howard",
   "metadata": {},
   "outputs": [],
   "source": [
    "def gen_baseline_2(params):\n",
    "    # No hidden layer units, ignore parameter\n",
    "    \n",
    "    model = models.BaselineCNN2(hidden_layer_units=params['hidden_units'])\n",
    "    criterion = torch.nn.CrossEntropyLoss()\n",
    "    optimizer = torch.optim.Adam(model.parameters(), lr=params['lr'])\n",
    "    return model, criterion, optimizer"
   ]
  },
  {
   "cell_type": "code",
   "execution_count": null,
   "id": "verified-subject",
   "metadata": {},
   "outputs": [],
   "source": [
    "epochs = 20\n",
    "seed = 0\n",
    "\n",
    "learning_rates = [0.0001, 0.001, 0.01]\n",
    "batch_sizes = 5, 10, 25\n",
    "# Doesn't matter: no MLP after LeNet \n",
    "hidden_layer_units = [10, 25, 50, 100]\n",
    "\n",
    "batch_size, lr, _ = model_tuning(\n",
    "    gen_baseline_2, train, epochs, batch_sizes, learning_rates, hidden_layer_units, seed=seed)"
   ]
  },
  {
   "cell_type": "code",
   "execution_count": null,
   "id": "engaging-relations",
   "metadata": {},
   "outputs": [],
   "source": []
  }
 ],
 "metadata": {
  "kernelspec": {
   "display_name": "Python 3",
   "language": "python",
   "name": "python3"
  },
  "language_info": {
   "codemirror_mode": {
    "name": "ipython",
    "version": 3
   },
   "file_extension": ".py",
   "mimetype": "text/x-python",
   "name": "python",
   "nbconvert_exporter": "python",
   "pygments_lexer": "ipython3",
   "version": "3.8.5"
  }
 },
 "nbformat": 4,
 "nbformat_minor": 5
}
